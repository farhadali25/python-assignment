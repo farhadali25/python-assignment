{
  "nbformat": 4,
  "nbformat_minor": 0,
  "metadata": {
    "colab": {
      "provenance": []
    },
    "kernelspec": {
      "name": "python3",
      "display_name": "Python 3"
    },
    "language_info": {
      "name": "python"
    }
  },
  "cells": [
    {
      "cell_type": "code",
      "execution_count": null,
      "metadata": {
        "id": "-blGJWIEzZlZ"
      },
      "outputs": [],
      "source": []
    },
    {
      "cell_type": "markdown",
      "source": [
        "#  ***Explain the key features of Python that make it a popular choice for programming?***\n",
        "\n",
        "-> Python is one of the most popular programming languages for several reasons, driven by key features that make it versatile, accessible, and powerful. Here are some of the primary features that contribute to its popularity:\n",
        "\n",
        "1. **Readability and Simplicity:**\n",
        "->   Python has a clean, straightforward syntax that resembles natural language, making it easier for beginners to learn and for experienced developers to read and understand. This readability contributes to faster development and reduced maintenance costs.\n",
        "\n",
        "2. **Versatility and General-Purpose Use**\n",
        "->  Python is a general-purpose language, which means it can be used for various types of programming and software development. It’s used widely in web development, data analysis, machine learning, artificial intelligence, automation, scientific computing, and even game development.\n",
        "\n",
        "3. **Extensive Standard Library**\n",
        "-> It provides modules and functions for tasks like file I/O, system calls, web services, and data serialization. This reduces the need for external dependencies for many common tasks, making development faster and more efficient.\n",
        "\n",
        "4. **Cross-Platform Compatibility**\n",
        "-> Python is platform-independent and can run on multiple operating systems, including Windows, macOS, and Linux. This makes it a flexible choice for development and ensures compatibility across different environments.\n",
        "\n",
        "5. **Strong Community and Extensive Documentation**\n",
        "-> Python has a large, active community that contributes to its continuous development and the availability of a wide range of resources. The community-driven support helps new developers find tutorials, documentation, and assistance.\n",
        "\n",
        "6. **Support for Multiple Paradigms**\n",
        "-> Python is a multi-paradigm language, supporting various programming styles, including procedural, object-oriented, and functional programming. This flexibility allows developers to use the approach that best suits their project requirements.\n",
        "\n",
        "7. **High Scalability and Integrations**\n",
        "-> Python’s scalability allows it to handle both small scripts and large, complex applications. It integrates seamlessly with other languages and technologies, including C, C++, Java, and .NET, making it highly adaptable for larger systems.\n",
        "\n",
        "8. **Robust Libraries and Frameworks for Data Science and Machine Learning**\n",
        "-> Python is widely used in data science and machine learning, thanks to its powerful libraries like NumPy, Pandas, Scikit-Learn, and TensorFlow. These libraries simplify data manipulation, analysis, and model building, making Python an industry-standard for data-related applications.\n",
        "\n",
        "9. **Strong Support for Automation and Scripting**\n",
        "-> Python is also popular for automation and scripting due to its ease of writing scripts and powerful libraries that interact with the operating system. It’s commonly used to automate repetitive tasks, improving productivity in software testing, data processing, and server management.\n",
        "\n",
        "10. **Continuous Development and Evolving Ecosystem**\n",
        "-> Python’s ecosystem is continually evolving, with regular updates and improvements to its standard library, language features, and third-party packages. This makes Python well-suited for modern software development needs, allowing it to stay relevant across various fields.\n",
        "\n"
      ],
      "metadata": {
        "id": "Gz5O3eWx_oBq"
      }
    },
    {
      "cell_type": "markdown",
      "source": [
        "# ***Describe the role of predefined keywords in Python and provide examples of how they are used in a program?***\n",
        "\n",
        "-> In Python, predefined keywords (also known as reserved words) are special words that have specific meanings and uses in the language. They cannot be used as identifiers (e.g., variable names, function names) because they are reserved to perform specific functions within the language. These keywords help define the syntax and structure of Python, enabling the creation of various programming constructs, like loops, conditionals, and data structures.\n",
        "   \n",
        "  **Key Features of Predefined Keywords in Python**\n",
        "\n",
        "1. Syntax and Structure:\n",
        "-> Keywords define the structure of Python programs, helping the interpreter recognize the parts of code, such as control flow, variable declarations, and function definitions.\n",
        "\n",
        "2. Flow Control:\n",
        "-> Keywords such as if, else, elif, for, while, break, continue, and pass control the flow of execution in a program.\n",
        "\n",
        "3. Function Definition and Scope:\n",
        "-> Keywords like def define functions, while return is used to exit a function and return a value. The global and nonlocal keywords define variable scope within functions.\n",
        "\n",
        "4. Data Structure Keywords:\n",
        "-> Keywords such as class, try, except, and finally are used to handle exceptions and create classes, while True, False, and None define Boolean and null-like values.\n",
        "\n",
        "5. Logical Operations:\n",
        "-> Keywords like and, or, and not allow logical comparisons, which are essential for conditional statements and loops."
      ],
      "metadata": {
        "id": "ehW0nmDGDBwC"
      }
    },
    {
      "cell_type": "code",
      "source": [
        "#if, elif, else – Used for conditional statements:\n",
        "\n",
        "x = 10\n",
        "if x > 0:\n",
        "    print(\"Positive\")\n",
        "elif x < 0:\n",
        "    print(\"Negative\")\n",
        "else:\n",
        "    print(\"Zero\")\n"
      ],
      "metadata": {
        "id": "ZG2MeXKwE1O9"
      },
      "execution_count": null,
      "outputs": []
    },
    {
      "cell_type": "code",
      "source": [
        "#for, while, break, continue – Used for looping and flow control:\n",
        "\n",
        "# Using a for loop to iterate over a list\n",
        "numbers = [1, 2, 3, 4, 5]\n",
        "for num in numbers:\n",
        "    if num == 3:\n",
        "        continue  # Skip number 3\n",
        "    print(num)\n",
        "\n",
        "# Using a while loop with break\n",
        "count = 0\n",
        "while count < 5:\n",
        "    if count == 3:\n",
        "        break  # Exit the loop when count is 3\n",
        "    print(count)\n",
        "    count += 1\n"
      ],
      "metadata": {
        "id": "jEeRHRZ5FJwh"
      },
      "execution_count": null,
      "outputs": []
    },
    {
      "cell_type": "code",
      "source": [
        "#def, return – Used for defining functions and returning values:\n",
        "\n",
        "def add(a, b):\n",
        "    return a + b\n",
        "\n",
        "result = add(5, 3)\n",
        "print(result)  # Output: 8\n"
      ],
      "metadata": {
        "id": "_BEARmsyFV9Z"
      },
      "execution_count": null,
      "outputs": []
    },
    {
      "cell_type": "code",
      "source": [
        "#class, self – Used for defining classes and methods within classes:\n",
        "\n",
        "class Dog:\n",
        "    def __init__(self, name):\n",
        "        self.name = name\n",
        "\n",
        "    def bark(self):\n",
        "        print(f\"{self.name} says Woof!\")\n",
        "\n",
        "dog = Dog(\"Buddy\")\n",
        "dog.bark()  # Output: Buddy says Woof!\n"
      ],
      "metadata": {
        "id": "EFO0fZWBFb-o"
      },
      "execution_count": null,
      "outputs": []
    },
    {
      "cell_type": "code",
      "source": [
        "#try, except, finally – Used for error handling:\n",
        "\n",
        "try:\n",
        "    result = 10 / 0\n",
        "except ZeroDivisionError:\n",
        "    print(\"Cannot divide by zero!\")\n",
        "finally:\n",
        "    print(\"This will always execute.\")\n"
      ],
      "metadata": {
        "id": "_IE6q-JUFh5d"
      },
      "execution_count": null,
      "outputs": []
    },
    {
      "cell_type": "code",
      "source": [
        "#True, False, None – Boolean and null-like values:\n",
        "\n",
        "is_valid = True\n",
        "result = None\n",
        "if not is_valid:\n",
        "    result = False\n",
        "print(result)  # Output: None or False depending on `is_valid`\n"
      ],
      "metadata": {
        "id": "hPjxD1iuFpx-"
      },
      "execution_count": null,
      "outputs": []
    },
    {
      "cell_type": "markdown",
      "source": [
        "#  ***Compare and contrast mutable and immutable objects in Python with examples***\n",
        "\n",
        "-> **Mutable Objects**\n",
        "\n",
        "Mutable objects can have their values or state changed after they are created. For instance, elements within a list can be modified, added, or removed.\n",
        "\n",
        "**Characteristics of Mutable Objects**:\n",
        "\n",
        "* They allow modifications directly without creating a new object.\n",
        "* Mutable objects can be used when you need to keep changing the data in place.\n",
        "* Examples of mutable objects include lists, dictionaries, and sets.\n"
      ],
      "metadata": {
        "id": "G5ShA942F1Lm"
      }
    },
    {
      "cell_type": "code",
      "source": [
        "# Example with a list (mutable)\n",
        "my_list = [1, 2, 3]\n",
        "print(\"Original List:\", my_list)  # Output: [1, 2, 3]\n",
        "\n",
        "# Modifying the list\n",
        "my_list[1] = 20\n",
        "print(\"Modified List:\", my_list)  # Output: [1, 20, 3]\n",
        "\n",
        "# Adding an element to the list\n",
        "my_list.append(4)\n",
        "print(\"After Append:\", my_list)  # Output: [1, 20, 3, 4]\n"
      ],
      "metadata": {
        "id": "HNx4ewyFIhLI"
      },
      "execution_count": null,
      "outputs": []
    },
    {
      "cell_type": "markdown",
      "source": [
        "**Immutable Objects**\n",
        "\n",
        "Immutable objects, once created, cannot be changed. If you want to \"modify\" an immutable object, you actually create a new object with the modified value.\n",
        "\n",
        "**Characteristics of Immutable Objects:**\n",
        "\n",
        "* Any \"modification\" creates a new object rather than changing the original.\n",
        "* Immutable objects are useful when you want to ensure data remains constant or \"read-only.\"\n",
        "* Examples of immutable objects include integers, floats, strings, and tuples."
      ],
      "metadata": {
        "id": "SvMNi2a8Io3I"
      }
    },
    {
      "cell_type": "code",
      "source": [
        "# Example with a string (immutable)\n",
        "my_string = \"Hello\"\n",
        "print(\"Original String:\", my_string)  # Output: Hello\n",
        "\n",
        "# Attempting to modify the string\n",
        "new_string = my_string.replace(\"H\", \"J\")\n",
        "print(\"Modified String:\", new_string)  # Output: Jello\n",
        "print(\"Original String remains unchanged:\", my_string)  # Output: Hello\n",
        "\n",
        "# Example with a tuple (immutable)\n",
        "my_tuple = (1, 2, 3)\n",
        "print(\"Original Tuple:\", my_tuple)  # Output: (1, 2, 3)\n",
        "\n",
        "# Modifying the tuple would create a new tuple, not change the original\n",
        "new_tuple = my_tuple + (4,)\n",
        "print(\"New Tuple:\", new_tuple)  # Output: (1, 2, 3, 4)\n",
        "print(\"Original Tuple remains unchanged:\", my_tuple)  # Output: (1, 2, 3)\n"
      ],
      "metadata": {
        "id": "t-sY0FVxI-F4"
      },
      "execution_count": null,
      "outputs": []
    },
    {
      "cell_type": "markdown",
      "source": [
        "# ***Discuss the different types of operators in Python and provide examples of how they are used.***\n",
        "\n",
        "-> In Python, operators are special symbols or keywords that perform operations on variables and values. Operators fall into various categories, each with a distinct function and purpose. Here’s an overview of the different types of operators in Python and examples of how they are used.\n",
        "\n",
        "1. **Arithmetic Operators**\n",
        "\n",
        "Arithmetic operators are used for performing mathematical operations like addition, subtraction, multiplication, and division.\n",
        "\n",
        "**Operators\tExample**\n",
        "* (+)\tAddition\t3 + 2 → 5\n",
        "* (-)\tSubtraction\t5 - 2 → 3\n",
        "* (*)\tMultiplication\t4 * 3 → 12\n",
        "* (/)\tDivision\t10 / 2 → 5.0\n",
        "* (%)\tModulus (remainder)\t10 % 3 → 1\n",
        "* (**)\tExponentiation\t2 * * 3 → 8\n",
        "* (//)\tFloor Division\t10 // 3 → 3\n",
        "\n",
        "2. **Assignment Operators**\n",
        "\n",
        "Assignment operators assign values to variables. They can also perform arithmetic operations combined with assignment.\n",
        "\n",
        "**Operators\tExample**\n",
        "\n",
        "* (=)\tSimple assignment\tx = 5\n",
        "* (+=)\tAdd and assign\tx += 3\n",
        "* (-=)\tSubtract and assign\tx -= 2\n",
        "* (*=)\tMultiply and assign\tx *= 4\n",
        "* (/=)\tDivide and assign\tx /= 2\n",
        "* (%=)\tModulus and assign\tx %= 3\n",
        "* (//=)\tFloor divide and assign\tx //= 2\n",
        "* (**=)\tExponent and assign\tx * *= 3\n",
        "\n",
        "3. **Comparison Operators**\n",
        "\n",
        "Comparison operators compare two values and return a Boolean result: True or False.\n",
        "\n",
        "**Operators\tExample**\n",
        "\n",
        "* (==)\tEqual to\t3 == 3 → True\n",
        "* (!=)\tNot equal to\t3 != 4 → True\n",
        "* (>)\tGreater than\t5 > 2 → True\n",
        "* (<)\tLess than\t2 < 5 → True\n",
        "* (>=)\tGreater than or equal to\t5 >= 5 → True\n",
        "* (<=)\tLess than or equal to\t3 <= 4 → True\n",
        "\n",
        "4. **Logical Operators**\n",
        "\n",
        "Logical operators combine conditional statements and return True or False.\n",
        "\n",
        "**Operators Example**\n",
        "\n",
        "* (and)\tTrue if both are True. EXAMPLE\tTrue and False → False\n",
        "* (or)\tTrue if at least one is True. EXAMPLE\tTrue or False → True\n",
        "* (not)\tReverses the Boolean value.\tEXAMPLE not True → False\n",
        "\n",
        "5. **Membership Operators**\n",
        "\n",
        "Membership operators test if a value exists in a sequence (like a list, tuple, or string).\n",
        "\n",
        "**OperatorS\tExample**\n",
        "\n",
        "* (in)\tReturns True if found. EXAMPLE\t3 in [1, 2, 3] → True\n",
        "* (not in)\tReturns True if not found. EXAMPLE\t\"a\" not in \"apple\" → False"
      ],
      "metadata": {
        "id": "XBrbUUXZJqmx"
      }
    },
    {
      "cell_type": "markdown",
      "source": [],
      "metadata": {
        "id": "CXpReroXJEUZ"
      }
    },
    {
      "cell_type": "markdown",
      "source": [
        "# ***Explain the concept of type casting in Python with examples.***\n",
        "\n",
        "-> Type casting, or type conversion, in Python is the process of converting one data type into another. This can be done either implicitly by Python or explicitly by the programmer. Type casting is often necessary to make variables compatible with certain operations or functions.\n",
        "\n",
        "1. **Implicit Type Casting (Automatic Conversion)**\n",
        "\n",
        "Python automatically converts one data type to another during an operation without the need for explicit instruction from the programmer. This generally happens when a \"smaller\" data type (e.g., an integer) is used in an operation with a \"larger\" data type (e.g., a float).\n"
      ],
      "metadata": {
        "id": "Uk0hU7f3OqXt"
      }
    },
    {
      "cell_type": "code",
      "source": [
        "#EXAMPLE OF IMPLICIT TYPE CASTING\n",
        "# Integer and float are involved in addition\n",
        "a = 5         # int\n",
        "b = 2.5       # float\n",
        "\n",
        "# Implicitly converts 'a' to float and performs the addition\n",
        "result = a + b\n",
        "print(result)       # Output: 7.5 (float)\n",
        "print(type(result)) # Output: <class 'float'>\n"
      ],
      "metadata": {
        "id": "xCVi6tqiVwYH"
      },
      "execution_count": null,
      "outputs": []
    },
    {
      "cell_type": "markdown",
      "source": [
        "2. **Explicit Type Casting (Manual Conversion)**\n",
        "\n",
        "Explicit type casting is when the programmer manually converts a value from one data type to another. Python provides several built-in functions for explicit type casting:\n",
        "\n",
        "* int(): Converts to an integer\n",
        "* float(): Converts to a float\n",
        "* str(): Converts to a string\n",
        "* list(): Converts to a list\n",
        "* tuple(): Converts to a tuple\n",
        "* dict(): Converts to a dictionary (requires a structure that can be mapped to key-value pairs)\n",
        "\n",
        "**Examples of Explicit Type Casting**\n",
        "1. **Converting String to Integer**\n",
        "\n",
        "Useful when a string contains a numeric value and needs to be used in mathematical calculations.\n",
        "\n",
        "EXAMPLE:\n",
        "\n",
        "str_num = \"42\"\n",
        "\n",
        "int_num = int(str_num)  # Explicitly converts string to integer\n",
        "\n",
        "print(int_num)          # Output: 42\n",
        "\n",
        "print(type(int_num))    # Output: <class 'int'>\n",
        "\n",
        "2.  **Converting Integer to String**\n",
        "\n",
        "Commonly used when concatenating numbers with text\n",
        "\n",
        "EXAMPLE:\n",
        "\n",
        "age = 25\n",
        "\n",
        "message = \"I am \" + str(age) + \" years old.\"\n",
        "\n",
        "print(message)  # Output: I am 25 years old.\n",
        "\n",
        "3. **Converting Float to Integer**\n",
        "\n",
        "This conversion truncates the decimal part, as integers do not have decimal places.\n",
        "\n",
        "EXAMPLE:\n",
        "\n",
        "height = 5.9\n",
        "\n",
        "int_height = int(height)  # Explicitly converts float to integer\n",
        "\n",
        "print(int_height)         # Output: 5\n",
        "\n",
        "4. **Converting List to Tuple and Vice Versa**\n",
        "\n",
        "Lists and tuples can be converted to each other if needed for specific operations or immutability.\n",
        "\n",
        "EXAMPLE:\n",
        "### Converting list to tuple\n",
        "my_list = [1, 2, 3]\n",
        "\n",
        "my_tuple = tuple(my_list)\n",
        "\n",
        "print(my_tuple)  # Output: (1, 2, 3)\n",
        "\n",
        "### Converting tuple to list\n",
        "my_new_list = list(my_tuple)\n",
        "\n",
        "print(my_new_list)  # Output: [1, 2, 3]\n",
        "\n",
        "5. **Converting a List of Key-Value Pairs to Dictionary**\n",
        "\n",
        "A list of key-value pairs (tuples) can be converted to a dictionary.\n",
        "\n",
        "EXAMPLE:\n",
        "### List of tuples (key-value pairs)\n",
        "pairs = [(\"name\", \"Alice\"), (\"age\", 30)]\n",
        "\n",
        "my_dict = dict(pairs)\n",
        "\n",
        "print(my_dict)  # Output: {'name': 'Alice', 'age': 30}\n",
        "\n",
        "**Type Casting Limitations**\n",
        "\n",
        "Not all types can be cast into each other. For example, attempting to convert a string containing non-numeric characters directly to an integer will result in an error.\n",
        "\n",
        "**Implicit Type Casting:** Python automatically converts one type to another (e.g., int to float in arithmetic operations).\n",
        "\n",
        "**Explicit Type Casting:** Done manually by the programmer using type conversion functions (int(), float(), str(), etc.).\n",
        "\n",
        "\n"
      ],
      "metadata": {
        "id": "4_OmAGgpV8_r"
      }
    },
    {
      "cell_type": "markdown",
      "source": [
        "# ***How do conditional statements work in Python? Illustrate with examples.***\n",
        "\n",
        "-> Conditional statements in Python allow a program to execute certain sections of code based on whether a condition is True or False. Python uses keywords like if, elif, and else to construct conditional statements, enabling control over the program’s flow based on logical conditions.\n",
        "\n",
        "**Types of Conditional Statements**\n",
        "### if Statement:\n",
        "Executes a block of code if the condition is True.\n",
        "###elif (else if) Statement:\n",
        "Allows additional conditions to be checked if the initial if condition is False.\n",
        "###else Statement:\n",
        "Executes a block of code if all previous conditions are False.\n",
        "\n",
        "1. **if Statement:**\n",
        "\n",
        "The if statement evaluates a condition and, if True, executes the indented code block beneath it.\n",
        "\n",
        "#### Example : Simple if statement\n",
        "temperature = 30\n",
        "\n",
        "if temperature > 25:\n",
        "\n",
        "    print(\"It's warm outside.\") #OUTPUT It's warm outside\n",
        "Here, the condition temperature > 25 is True, so the print statement inside the if block is executed.\n",
        "\n",
        "2. **if-else Statement:**\n",
        "\n",
        "The if-else statement allows you to define an alternative action if the condition in the if statement is False.\n",
        "\n",
        "#### Example 2: if-else statement\n",
        "temperature = 20\n",
        "\n",
        "if temperature > 25:\n",
        "\n",
        "     print(\"It's warm outside.\")\n",
        "else:\n",
        "\n",
        "     print(\"It's cool outside.\")  #OUTPUT It's cool outside\n",
        "\n",
        "Since temperature > 25 is False, the code in the else block is executed.\n",
        "\n",
        "3. **if-elif-else Statement:**\n",
        "\n",
        "When there are multiple conditions, elif (short for \"else if\") allows for additional conditions to be checked sequentially after the initial if. Only the first True condition’s code block is executed, and the rest are skipped.\n",
        "\n",
        "#### Example : if-elif-else statement\n",
        "temperature = 15\n",
        "\n",
        "if temperature > 30:\n",
        "\n",
        "      print(\"It's hot outside.\")\n",
        "elif temperature > 20:\n",
        "\n",
        "      print(\"It's warm outside.\")\n",
        "elif temperature > 10:\n",
        "\n",
        "      print(\"It's mild outside.\")\n",
        "else:\n",
        "\n",
        "      print(\"It's cold outside.\")   #OUTPUT It's mild outside.\n",
        "\n",
        "The condition temperature > 10 is the first True condition in this sequence, so the code block under that elif is executed, and the remaining conditions are ignored.\n",
        "\n",
        "\n"
      ],
      "metadata": {
        "id": "Ll-moqZuZS_-"
      }
    },
    {
      "cell_type": "markdown",
      "source": [
        "# Describe the different types of loops in Python and their use cases with examples.\n",
        "\n",
        "-> Python offers two primary types of loops: for and while. Both are used to execute a block of code repeatedly, but each serves a distinct purpose and is suited for different scenarios.\n",
        "\n",
        "1. **for Loop:**\n",
        "\n",
        "The for loop is used to iterate over a sequence (like a list, tuple, string, or range) and execute the loop body for each item in the sequence. It’s often used when the number of iterations is known or when you’re working with iterable objects.\n",
        "\n",
        "BASIC SYNTAX:\n",
        "\n",
        "####for item in iterable:\n",
        "###### Using for loop to iterate over a list of numbers\n",
        "numbers = [1, 2, 3, 4, 5]\n",
        "\n",
        "for num in numbers:\n",
        "\n",
        "       print(num)\n",
        "\n",
        "2. **while Loop**\n",
        "\n",
        "The while loop repeats a block of code as long as a given condition is True. It’s typically used when the number of iterations isn’t known in advance and the loop needs to run until a specific condition is met.\n",
        "\n",
        "BASIC SYNTAX\n",
        "\n",
        "        while condition:\n",
        "\n",
        "#### Using a while loop to count from 1 to 5\n",
        "counter = 1\n",
        "\n",
        "while counter <= 5:\n",
        "\n",
        "      print(counter)\n",
        "      counter += 1\n",
        "\n",
        "A while loop is useful when you want the loop to continue until a specific user input is given.\n"
      ],
      "metadata": {
        "id": "c_pNu83knbVn"
      }
    },
    {
      "cell_type": "markdown",
      "source": [],
      "metadata": {
        "id": "J2yQzWVeqCI4"
      }
    }
  ]
}